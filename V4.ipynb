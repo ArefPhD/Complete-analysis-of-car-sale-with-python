{
  "metadata": {
    "kernelspec": {
      "language": "python",
      "display_name": "Python 3",
      "name": "python3"
    },
    "language_info": {
      "pygments_lexer": "ipython3",
      "nbconvert_exporter": "python",
      "version": "3.6.4",
      "file_extension": ".py",
      "codemirror_mode": {
        "name": "ipython",
        "version": 3
      },
      "name": "python",
      "mimetype": "text/x-python"
    },
    "colab": {
      "name": "myanalysis.ipynb",
      "provenance": []
    }
  },
  "nbformat_minor": 0,
  "nbformat": 4,
  "cells": [
    {
      "cell_type": "markdown",
      "source": [
        "## **1. Data Collection and Handling**"
      ],
      "metadata": {
        "id": "5AK_ilwY7BKl"
      }
    },
    {
      "cell_type": "code",
      "source": [
        "from plotly.offline import plot, iplot, init_notebook_mode\n",
        "init_notebook_mode(connected=True)"
      ],
      "metadata": {
        "execution": {
          "iopub.status.busy": "2022-04-14T07:19:31.53718Z",
          "iopub.execute_input": "2022-04-14T07:19:31.53749Z",
          "iopub.status.idle": "2022-04-14T07:19:31.613231Z",
          "shell.execute_reply.started": "2022-04-14T07:19:31.53745Z",
          "shell.execute_reply": "2022-04-14T07:19:31.612395Z"
        },
        "trusted": true,
        "colab": {
          "base_uri": "https://localhost:8080/",
          "height": 17
        },
        "id": "A-g_4fG87BKr",
        "outputId": "0a1c7717-dc95-4645-d808-14fa73aa6874"
      },
      "execution_count": 181,
      "outputs": [
        {
          "output_type": "display_data",
          "data": {
            "text/html": [
              "        <script type=\"text/javascript\">\n",
              "        window.PlotlyConfig = {MathJaxConfig: 'local'};\n",
              "        if (window.MathJax) {MathJax.Hub.Config({SVG: {font: \"STIX-Web\"}});}\n",
              "        if (typeof require !== 'undefined') {\n",
              "        require.undef(\"plotly\");\n",
              "        requirejs.config({\n",
              "            paths: {\n",
              "                'plotly': ['https://cdn.plot.ly/plotly-2.8.3.min']\n",
              "            }\n",
              "        });\n",
              "        require(['plotly'], function(Plotly) {\n",
              "            window._Plotly = Plotly;\n",
              "        });\n",
              "        }\n",
              "        </script>\n",
              "        "
            ]
          },
          "metadata": {}
        }
      ]
    },
    {
      "cell_type": "code",
      "source": [
        "import pandas as pd"
      ],
      "metadata": {
        "id": "OikErxS5gtVE"
      },
      "execution_count": 182,
      "outputs": []
    },
    {
      "cell_type": "code",
      "source": [
        "from google.colab import files\n",
        "\n",
        "uploaded = files.upload()"
      ],
      "metadata": {
        "colab": {
          "resources": {
            "http://localhost:8080/nbextensions/google.colab/files.js": {
              "data": "Ly8gQ29weXJpZ2h0IDIwMTcgR29vZ2xlIExMQwovLwovLyBMaWNlbnNlZCB1bmRlciB0aGUgQXBhY2hlIExpY2Vuc2UsIFZlcnNpb24gMi4wICh0aGUgIkxpY2Vuc2UiKTsKLy8geW91IG1heSBub3QgdXNlIHRoaXMgZmlsZSBleGNlcHQgaW4gY29tcGxpYW5jZSB3aXRoIHRoZSBMaWNlbnNlLgovLyBZb3UgbWF5IG9idGFpbiBhIGNvcHkgb2YgdGhlIExpY2Vuc2UgYXQKLy8KLy8gICAgICBodHRwOi8vd3d3LmFwYWNoZS5vcmcvbGljZW5zZXMvTElDRU5TRS0yLjAKLy8KLy8gVW5sZXNzIHJlcXVpcmVkIGJ5IGFwcGxpY2FibGUgbGF3IG9yIGFncmVlZCB0byBpbiB3cml0aW5nLCBzb2Z0d2FyZQovLyBkaXN0cmlidXRlZCB1bmRlciB0aGUgTGljZW5zZSBpcyBkaXN0cmlidXRlZCBvbiBhbiAiQVMgSVMiIEJBU0lTLAovLyBXSVRIT1VUIFdBUlJBTlRJRVMgT1IgQ09ORElUSU9OUyBPRiBBTlkgS0lORCwgZWl0aGVyIGV4cHJlc3Mgb3IgaW1wbGllZC4KLy8gU2VlIHRoZSBMaWNlbnNlIGZvciB0aGUgc3BlY2lmaWMgbGFuZ3VhZ2UgZ292ZXJuaW5nIHBlcm1pc3Npb25zIGFuZAovLyBsaW1pdGF0aW9ucyB1bmRlciB0aGUgTGljZW5zZS4KCi8qKgogKiBAZmlsZW92ZXJ2aWV3IEhlbHBlcnMgZm9yIGdvb2dsZS5jb2xhYiBQeXRob24gbW9kdWxlLgogKi8KKGZ1bmN0aW9uKHNjb3BlKSB7CmZ1bmN0aW9uIHNwYW4odGV4dCwgc3R5bGVBdHRyaWJ1dGVzID0ge30pIHsKICBjb25zdCBlbGVtZW50ID0gZG9jdW1lbnQuY3JlYXRlRWxlbWVudCgnc3BhbicpOwogIGVsZW1lbnQudGV4dENvbnRlbnQgPSB0ZXh0OwogIGZvciAoY29uc3Qga2V5IG9mIE9iamVjdC5rZXlzKHN0eWxlQXR0cmlidXRlcykpIHsKICAgIGVsZW1lbnQuc3R5bGVba2V5XSA9IHN0eWxlQXR0cmlidXRlc1trZXldOwogIH0KICByZXR1cm4gZWxlbWVudDsKfQoKLy8gTWF4IG51bWJlciBvZiBieXRlcyB3aGljaCB3aWxsIGJlIHVwbG9hZGVkIGF0IGEgdGltZS4KY29uc3QgTUFYX1BBWUxPQURfU0laRSA9IDEwMCAqIDEwMjQ7CgpmdW5jdGlvbiBfdXBsb2FkRmlsZXMoaW5wdXRJZCwgb3V0cHV0SWQpIHsKICBjb25zdCBzdGVwcyA9IHVwbG9hZEZpbGVzU3RlcChpbnB1dElkLCBvdXRwdXRJZCk7CiAgY29uc3Qgb3V0cHV0RWxlbWVudCA9IGRvY3VtZW50LmdldEVsZW1lbnRCeUlkKG91dHB1dElkKTsKICAvLyBDYWNoZSBzdGVwcyBvbiB0aGUgb3V0cHV0RWxlbWVudCB0byBtYWtlIGl0IGF2YWlsYWJsZSBmb3IgdGhlIG5leHQgY2FsbAogIC8vIHRvIHVwbG9hZEZpbGVzQ29udGludWUgZnJvbSBQeXRob24uCiAgb3V0cHV0RWxlbWVudC5zdGVwcyA9IHN0ZXBzOwoKICByZXR1cm4gX3VwbG9hZEZpbGVzQ29udGludWUob3V0cHV0SWQpOwp9CgovLyBUaGlzIGlzIHJvdWdobHkgYW4gYXN5bmMgZ2VuZXJhdG9yIChub3Qgc3VwcG9ydGVkIGluIHRoZSBicm93c2VyIHlldCksCi8vIHdoZXJlIHRoZXJlIGFyZSBtdWx0aXBsZSBhc3luY2hyb25vdXMgc3RlcHMgYW5kIHRoZSBQeXRob24gc2lkZSBpcyBnb2luZwovLyB0byBwb2xsIGZvciBjb21wbGV0aW9uIG9mIGVhY2ggc3RlcC4KLy8gVGhpcyB1c2VzIGEgUHJvbWlzZSB0byBibG9jayB0aGUgcHl0aG9uIHNpZGUgb24gY29tcGxldGlvbiBvZiBlYWNoIHN0ZXAsCi8vIHRoZW4gcGFzc2VzIHRoZSByZXN1bHQgb2YgdGhlIHByZXZpb3VzIHN0ZXAgYXMgdGhlIGlucHV0IHRvIHRoZSBuZXh0IHN0ZXAuCmZ1bmN0aW9uIF91cGxvYWRGaWxlc0NvbnRpbnVlKG91dHB1dElkKSB7CiAgY29uc3Qgb3V0cHV0RWxlbWVudCA9IGRvY3VtZW50LmdldEVsZW1lbnRCeUlkKG91dHB1dElkKTsKICBjb25zdCBzdGVwcyA9IG91dHB1dEVsZW1lbnQuc3RlcHM7CgogIGNvbnN0IG5leHQgPSBzdGVwcy5uZXh0KG91dHB1dEVsZW1lbnQubGFzdFByb21pc2VWYWx1ZSk7CiAgcmV0dXJuIFByb21pc2UucmVzb2x2ZShuZXh0LnZhbHVlLnByb21pc2UpLnRoZW4oKHZhbHVlKSA9PiB7CiAgICAvLyBDYWNoZSB0aGUgbGFzdCBwcm9taXNlIHZhbHVlIHRvIG1ha2UgaXQgYXZhaWxhYmxlIHRvIHRoZSBuZXh0CiAgICAvLyBzdGVwIG9mIHRoZSBnZW5lcmF0b3IuCiAgICBvdXRwdXRFbGVtZW50Lmxhc3RQcm9taXNlVmFsdWUgPSB2YWx1ZTsKICAgIHJldHVybiBuZXh0LnZhbHVlLnJlc3BvbnNlOwogIH0pOwp9CgovKioKICogR2VuZXJhdG9yIGZ1bmN0aW9uIHdoaWNoIGlzIGNhbGxlZCBiZXR3ZWVuIGVhY2ggYXN5bmMgc3RlcCBvZiB0aGUgdXBsb2FkCiAqIHByb2Nlc3MuCiAqIEBwYXJhbSB7c3RyaW5nfSBpbnB1dElkIEVsZW1lbnQgSUQgb2YgdGhlIGlucHV0IGZpbGUgcGlja2VyIGVsZW1lbnQuCiAqIEBwYXJhbSB7c3RyaW5nfSBvdXRwdXRJZCBFbGVtZW50IElEIG9mIHRoZSBvdXRwdXQgZGlzcGxheS4KICogQHJldHVybiB7IUl0ZXJhYmxlPCFPYmplY3Q+fSBJdGVyYWJsZSBvZiBuZXh0IHN0ZXBzLgogKi8KZnVuY3Rpb24qIHVwbG9hZEZpbGVzU3RlcChpbnB1dElkLCBvdXRwdXRJZCkgewogIGNvbnN0IGlucHV0RWxlbWVudCA9IGRvY3VtZW50LmdldEVsZW1lbnRCeUlkKGlucHV0SWQpOwogIGlucHV0RWxlbWVudC5kaXNhYmxlZCA9IGZhbHNlOwoKICBjb25zdCBvdXRwdXRFbGVtZW50ID0gZG9jdW1lbnQuZ2V0RWxlbWVudEJ5SWQob3V0cHV0SWQpOwogIG91dHB1dEVsZW1lbnQuaW5uZXJIVE1MID0gJyc7CgogIGNvbnN0IHBpY2tlZFByb21pc2UgPSBuZXcgUHJvbWlzZSgocmVzb2x2ZSkgPT4gewogICAgaW5wdXRFbGVtZW50LmFkZEV2ZW50TGlzdGVuZXIoJ2NoYW5nZScsIChlKSA9PiB7CiAgICAgIHJlc29sdmUoZS50YXJnZXQuZmlsZXMpOwogICAgfSk7CiAgfSk7CgogIGNvbnN0IGNhbmNlbCA9IGRvY3VtZW50LmNyZWF0ZUVsZW1lbnQoJ2J1dHRvbicpOwogIGlucHV0RWxlbWVudC5wYXJlbnRFbGVtZW50LmFwcGVuZENoaWxkKGNhbmNlbCk7CiAgY2FuY2VsLnRleHRDb250ZW50ID0gJ0NhbmNlbCB1cGxvYWQnOwogIGNvbnN0IGNhbmNlbFByb21pc2UgPSBuZXcgUHJvbWlzZSgocmVzb2x2ZSkgPT4gewogICAgY2FuY2VsLm9uY2xpY2sgPSAoKSA9PiB7CiAgICAgIHJlc29sdmUobnVsbCk7CiAgICB9OwogIH0pOwoKICAvLyBXYWl0IGZvciB0aGUgdXNlciB0byBwaWNrIHRoZSBmaWxlcy4KICBjb25zdCBmaWxlcyA9IHlpZWxkIHsKICAgIHByb21pc2U6IFByb21pc2UucmFjZShbcGlja2VkUHJvbWlzZSwgY2FuY2VsUHJvbWlzZV0pLAogICAgcmVzcG9uc2U6IHsKICAgICAgYWN0aW9uOiAnc3RhcnRpbmcnLAogICAgfQogIH07CgogIGNhbmNlbC5yZW1vdmUoKTsKCiAgLy8gRGlzYWJsZSB0aGUgaW5wdXQgZWxlbWVudCBzaW5jZSBmdXJ0aGVyIHBpY2tzIGFyZSBub3QgYWxsb3dlZC4KICBpbnB1dEVsZW1lbnQuZGlzYWJsZWQgPSB0cnVlOwoKICBpZiAoIWZpbGVzKSB7CiAgICByZXR1cm4gewogICAgICByZXNwb25zZTogewogICAgICAgIGFjdGlvbjogJ2NvbXBsZXRlJywKICAgICAgfQogICAgfTsKICB9CgogIGZvciAoY29uc3QgZmlsZSBvZiBmaWxlcykgewogICAgY29uc3QgbGkgPSBkb2N1bWVudC5jcmVhdGVFbGVtZW50KCdsaScpOwogICAgbGkuYXBwZW5kKHNwYW4oZmlsZS5uYW1lLCB7Zm9udFdlaWdodDogJ2JvbGQnfSkpOwogICAgbGkuYXBwZW5kKHNwYW4oCiAgICAgICAgYCgke2ZpbGUudHlwZSB8fCAnbi9hJ30pIC0gJHtmaWxlLnNpemV9IGJ5dGVzLCBgICsKICAgICAgICBgbGFzdCBtb2RpZmllZDogJHsKICAgICAgICAgICAgZmlsZS5sYXN0TW9kaWZpZWREYXRlID8gZmlsZS5sYXN0TW9kaWZpZWREYXRlLnRvTG9jYWxlRGF0ZVN0cmluZygpIDoKICAgICAgICAgICAgICAgICAgICAgICAgICAgICAgICAgICAgJ24vYSd9IC0gYCkpOwogICAgY29uc3QgcGVyY2VudCA9IHNwYW4oJzAlIGRvbmUnKTsKICAgIGxpLmFwcGVuZENoaWxkKHBlcmNlbnQpOwoKICAgIG91dHB1dEVsZW1lbnQuYXBwZW5kQ2hpbGQobGkpOwoKICAgIGNvbnN0IGZpbGVEYXRhUHJvbWlzZSA9IG5ldyBQcm9taXNlKChyZXNvbHZlKSA9PiB7CiAgICAgIGNvbnN0IHJlYWRlciA9IG5ldyBGaWxlUmVhZGVyKCk7CiAgICAgIHJlYWRlci5vbmxvYWQgPSAoZSkgPT4gewogICAgICAgIHJlc29sdmUoZS50YXJnZXQucmVzdWx0KTsKICAgICAgfTsKICAgICAgcmVhZGVyLnJlYWRBc0FycmF5QnVmZmVyKGZpbGUpOwogICAgfSk7CiAgICAvLyBXYWl0IGZvciB0aGUgZGF0YSB0byBiZSByZWFkeS4KICAgIGxldCBmaWxlRGF0YSA9IHlpZWxkIHsKICAgICAgcHJvbWlzZTogZmlsZURhdGFQcm9taXNlLAogICAgICByZXNwb25zZTogewogICAgICAgIGFjdGlvbjogJ2NvbnRpbnVlJywKICAgICAgfQogICAgfTsKCiAgICAvLyBVc2UgYSBjaHVua2VkIHNlbmRpbmcgdG8gYXZvaWQgbWVzc2FnZSBzaXplIGxpbWl0cy4gU2VlIGIvNjIxMTU2NjAuCiAgICBsZXQgcG9zaXRpb24gPSAwOwogICAgZG8gewogICAgICBjb25zdCBsZW5ndGggPSBNYXRoLm1pbihmaWxlRGF0YS5ieXRlTGVuZ3RoIC0gcG9zaXRpb24sIE1BWF9QQVlMT0FEX1NJWkUpOwogICAgICBjb25zdCBjaHVuayA9IG5ldyBVaW50OEFycmF5KGZpbGVEYXRhLCBwb3NpdGlvbiwgbGVuZ3RoKTsKICAgICAgcG9zaXRpb24gKz0gbGVuZ3RoOwoKICAgICAgY29uc3QgYmFzZTY0ID0gYnRvYShTdHJpbmcuZnJvbUNoYXJDb2RlLmFwcGx5KG51bGwsIGNodW5rKSk7CiAgICAgIHlpZWxkIHsKICAgICAgICByZXNwb25zZTogewogICAgICAgICAgYWN0aW9uOiAnYXBwZW5kJywKICAgICAgICAgIGZpbGU6IGZpbGUubmFtZSwKICAgICAgICAgIGRhdGE6IGJhc2U2NCwKICAgICAgICB9LAogICAgICB9OwoKICAgICAgbGV0IHBlcmNlbnREb25lID0gZmlsZURhdGEuYnl0ZUxlbmd0aCA9PT0gMCA/CiAgICAgICAgICAxMDAgOgogICAgICAgICAgTWF0aC5yb3VuZCgocG9zaXRpb24gLyBmaWxlRGF0YS5ieXRlTGVuZ3RoKSAqIDEwMCk7CiAgICAgIHBlcmNlbnQudGV4dENvbnRlbnQgPSBgJHtwZXJjZW50RG9uZX0lIGRvbmVgOwoKICAgIH0gd2hpbGUgKHBvc2l0aW9uIDwgZmlsZURhdGEuYnl0ZUxlbmd0aCk7CiAgfQoKICAvLyBBbGwgZG9uZS4KICB5aWVsZCB7CiAgICByZXNwb25zZTogewogICAgICBhY3Rpb246ICdjb21wbGV0ZScsCiAgICB9CiAgfTsKfQoKc2NvcGUuZ29vZ2xlID0gc2NvcGUuZ29vZ2xlIHx8IHt9OwpzY29wZS5nb29nbGUuY29sYWIgPSBzY29wZS5nb29nbGUuY29sYWIgfHwge307CnNjb3BlLmdvb2dsZS5jb2xhYi5fZmlsZXMgPSB7CiAgX3VwbG9hZEZpbGVzLAogIF91cGxvYWRGaWxlc0NvbnRpbnVlLAp9Owp9KShzZWxmKTsK",
              "ok": true,
              "headers": [
                [
                  "content-type",
                  "application/javascript"
                ]
              ],
              "status": 200,
              "status_text": ""
            }
          },
          "base_uri": "https://localhost:8080/",
          "height": 73
        },
        "id": "pc657Ajl7E62",
        "outputId": "a9a9e361-fc54-4ce5-eec4-8867b6a17967"
      },
      "execution_count": 183,
      "outputs": [
        {
          "output_type": "display_data",
          "data": {
            "text/plain": [
              "<IPython.core.display.HTML object>"
            ],
            "text/html": [
              "\n",
              "     <input type=\"file\" id=\"files-fd7ace17-9728-4806-96ad-38c30db1ee8d\" name=\"files[]\" multiple disabled\n",
              "        style=\"border:none\" />\n",
              "     <output id=\"result-fd7ace17-9728-4806-96ad-38c30db1ee8d\">\n",
              "      Upload widget is only available when the cell has been executed in the\n",
              "      current browser session. Please rerun this cell to enable.\n",
              "      </output>\n",
              "      <script src=\"/nbextensions/google.colab/files.js\"></script> "
            ]
          },
          "metadata": {}
        },
        {
          "output_type": "stream",
          "name": "stdout",
          "text": [
            "Saving DATAs.csv to DATAs (2).csv\n"
          ]
        }
      ]
    },
    {
      "cell_type": "code",
      "source": [
        "data= pd.read_csv('DATAs (2).csv')\n",
        "data.head()"
      ],
      "metadata": {
        "execution": {
          "iopub.status.busy": "2022-04-14T07:19:41.216079Z",
          "iopub.execute_input": "2022-04-14T07:19:41.216402Z",
          "iopub.status.idle": "2022-04-14T07:19:41.283903Z",
          "shell.execute_reply.started": "2022-04-14T07:19:41.216366Z",
          "shell.execute_reply": "2022-04-14T07:19:41.283022Z"
        },
        "trusted": true,
        "colab": {
          "base_uri": "https://localhost:8080/",
          "height": 206
        },
        "id": "RkxYg9Ed7BKs",
        "outputId": "7f214aac-c8d0-4025-baea-43aa2eeef357"
      },
      "execution_count": 297,
      "outputs": [
        {
          "output_type": "execute_result",
          "data": {
            "text/plain": [
              "  Polymer Substrate  Dosage [ppm]  Adsorption [mg/m2] pH     MW  \\\n",
              "0     PAM    Silica        0.0010               0.086  6  17000   \n",
              "1     PAM    Silica        0.0030               0.213  6  17000   \n",
              "2     PAM    Silica        0.0270               0.239  6  17000   \n",
              "3     PAM    Silica        0.0051               0.260  6  17000   \n",
              "4     PAM    Silica        0.0082               0.256  6  17000   \n",
              "\n",
              "  Tempearture [C]  Ref  \n",
              "0             NAN  NaN  \n",
              "1             NAN  NaN  \n",
              "2             NAN  NaN  \n",
              "3             NAN  NaN  \n",
              "4             NAN  NaN  "
            ],
            "text/html": [
              "\n",
              "  <div id=\"df-eb780df6-b631-4338-bd72-7262bbb2ec22\">\n",
              "    <div class=\"colab-df-container\">\n",
              "      <div>\n",
              "<style scoped>\n",
              "    .dataframe tbody tr th:only-of-type {\n",
              "        vertical-align: middle;\n",
              "    }\n",
              "\n",
              "    .dataframe tbody tr th {\n",
              "        vertical-align: top;\n",
              "    }\n",
              "\n",
              "    .dataframe thead th {\n",
              "        text-align: right;\n",
              "    }\n",
              "</style>\n",
              "<table border=\"1\" class=\"dataframe\">\n",
              "  <thead>\n",
              "    <tr style=\"text-align: right;\">\n",
              "      <th></th>\n",
              "      <th>Polymer</th>\n",
              "      <th>Substrate</th>\n",
              "      <th>Dosage [ppm]</th>\n",
              "      <th>Adsorption [mg/m2]</th>\n",
              "      <th>pH</th>\n",
              "      <th>MW</th>\n",
              "      <th>Tempearture [C]</th>\n",
              "      <th>Ref</th>\n",
              "    </tr>\n",
              "  </thead>\n",
              "  <tbody>\n",
              "    <tr>\n",
              "      <th>0</th>\n",
              "      <td>PAM</td>\n",
              "      <td>Silica</td>\n",
              "      <td>0.0010</td>\n",
              "      <td>0.086</td>\n",
              "      <td>6</td>\n",
              "      <td>17000</td>\n",
              "      <td>NAN</td>\n",
              "      <td>NaN</td>\n",
              "    </tr>\n",
              "    <tr>\n",
              "      <th>1</th>\n",
              "      <td>PAM</td>\n",
              "      <td>Silica</td>\n",
              "      <td>0.0030</td>\n",
              "      <td>0.213</td>\n",
              "      <td>6</td>\n",
              "      <td>17000</td>\n",
              "      <td>NAN</td>\n",
              "      <td>NaN</td>\n",
              "    </tr>\n",
              "    <tr>\n",
              "      <th>2</th>\n",
              "      <td>PAM</td>\n",
              "      <td>Silica</td>\n",
              "      <td>0.0270</td>\n",
              "      <td>0.239</td>\n",
              "      <td>6</td>\n",
              "      <td>17000</td>\n",
              "      <td>NAN</td>\n",
              "      <td>NaN</td>\n",
              "    </tr>\n",
              "    <tr>\n",
              "      <th>3</th>\n",
              "      <td>PAM</td>\n",
              "      <td>Silica</td>\n",
              "      <td>0.0051</td>\n",
              "      <td>0.260</td>\n",
              "      <td>6</td>\n",
              "      <td>17000</td>\n",
              "      <td>NAN</td>\n",
              "      <td>NaN</td>\n",
              "    </tr>\n",
              "    <tr>\n",
              "      <th>4</th>\n",
              "      <td>PAM</td>\n",
              "      <td>Silica</td>\n",
              "      <td>0.0082</td>\n",
              "      <td>0.256</td>\n",
              "      <td>6</td>\n",
              "      <td>17000</td>\n",
              "      <td>NAN</td>\n",
              "      <td>NaN</td>\n",
              "    </tr>\n",
              "  </tbody>\n",
              "</table>\n",
              "</div>\n",
              "      <button class=\"colab-df-convert\" onclick=\"convertToInteractive('df-eb780df6-b631-4338-bd72-7262bbb2ec22')\"\n",
              "              title=\"Convert this dataframe to an interactive table.\"\n",
              "              style=\"display:none;\">\n",
              "        \n",
              "  <svg xmlns=\"http://www.w3.org/2000/svg\" height=\"24px\"viewBox=\"0 0 24 24\"\n",
              "       width=\"24px\">\n",
              "    <path d=\"M0 0h24v24H0V0z\" fill=\"none\"/>\n",
              "    <path d=\"M18.56 5.44l.94 2.06.94-2.06 2.06-.94-2.06-.94-.94-2.06-.94 2.06-2.06.94zm-11 1L8.5 8.5l.94-2.06 2.06-.94-2.06-.94L8.5 2.5l-.94 2.06-2.06.94zm10 10l.94 2.06.94-2.06 2.06-.94-2.06-.94-.94-2.06-.94 2.06-2.06.94z\"/><path d=\"M17.41 7.96l-1.37-1.37c-.4-.4-.92-.59-1.43-.59-.52 0-1.04.2-1.43.59L10.3 9.45l-7.72 7.72c-.78.78-.78 2.05 0 2.83L4 21.41c.39.39.9.59 1.41.59.51 0 1.02-.2 1.41-.59l7.78-7.78 2.81-2.81c.8-.78.8-2.07 0-2.86zM5.41 20L4 18.59l7.72-7.72 1.47 1.35L5.41 20z\"/>\n",
              "  </svg>\n",
              "      </button>\n",
              "      \n",
              "  <style>\n",
              "    .colab-df-container {\n",
              "      display:flex;\n",
              "      flex-wrap:wrap;\n",
              "      gap: 12px;\n",
              "    }\n",
              "\n",
              "    .colab-df-convert {\n",
              "      background-color: #E8F0FE;\n",
              "      border: none;\n",
              "      border-radius: 50%;\n",
              "      cursor: pointer;\n",
              "      display: none;\n",
              "      fill: #1967D2;\n",
              "      height: 32px;\n",
              "      padding: 0 0 0 0;\n",
              "      width: 32px;\n",
              "    }\n",
              "\n",
              "    .colab-df-convert:hover {\n",
              "      background-color: #E2EBFA;\n",
              "      box-shadow: 0px 1px 2px rgba(60, 64, 67, 0.3), 0px 1px 3px 1px rgba(60, 64, 67, 0.15);\n",
              "      fill: #174EA6;\n",
              "    }\n",
              "\n",
              "    [theme=dark] .colab-df-convert {\n",
              "      background-color: #3B4455;\n",
              "      fill: #D2E3FC;\n",
              "    }\n",
              "\n",
              "    [theme=dark] .colab-df-convert:hover {\n",
              "      background-color: #434B5C;\n",
              "      box-shadow: 0px 1px 3px 1px rgba(0, 0, 0, 0.15);\n",
              "      filter: drop-shadow(0px 1px 2px rgba(0, 0, 0, 0.3));\n",
              "      fill: #FFFFFF;\n",
              "    }\n",
              "  </style>\n",
              "\n",
              "      <script>\n",
              "        const buttonEl =\n",
              "          document.querySelector('#df-eb780df6-b631-4338-bd72-7262bbb2ec22 button.colab-df-convert');\n",
              "        buttonEl.style.display =\n",
              "          google.colab.kernel.accessAllowed ? 'block' : 'none';\n",
              "\n",
              "        async function convertToInteractive(key) {\n",
              "          const element = document.querySelector('#df-eb780df6-b631-4338-bd72-7262bbb2ec22');\n",
              "          const dataTable =\n",
              "            await google.colab.kernel.invokeFunction('convertToInteractive',\n",
              "                                                     [key], {});\n",
              "          if (!dataTable) return;\n",
              "\n",
              "          const docLinkHtml = 'Like what you see? Visit the ' +\n",
              "            '<a target=\"_blank\" href=https://colab.research.google.com/notebooks/data_table.ipynb>data table notebook</a>'\n",
              "            + ' to learn more about interactive tables.';\n",
              "          element.innerHTML = '';\n",
              "          dataTable['output_type'] = 'display_data';\n",
              "          await google.colab.output.renderOutput(dataTable, element);\n",
              "          const docLink = document.createElement('div');\n",
              "          docLink.innerHTML = docLinkHtml;\n",
              "          element.appendChild(docLink);\n",
              "        }\n",
              "      </script>\n",
              "    </div>\n",
              "  </div>\n",
              "  "
            ]
          },
          "metadata": {},
          "execution_count": 297
        }
      ]
    },
    {
      "cell_type": "markdown",
      "source": [
        "#**DATA SET OVERVIEW**`"
      ],
      "metadata": {
        "id": "6VfVe8xZXQ4b"
      }
    },
    {
      "cell_type": "code",
      "source": [
        "overview = data.apply(lambda col: col.unique())\n",
        "overview"
      ],
      "metadata": {
        "colab": {
          "base_uri": "https://localhost:8080/"
        },
        "id": "_wBk0tjfXKUJ",
        "outputId": "f5920458-afa7-42c9-9a22-b6ca26842ce4"
      },
      "execution_count": 244,
      "outputs": [
        {
          "output_type": "execute_result",
          "data": {
            "text/plain": [
              "Polymer                                    [PAM, H-PAM, Al-PAM, Fe-PAM]\n",
              "Substrate             [Silica, kaolinite, Alumina, illite, Kaolinite...\n",
              "Dosage [ppm]          [7.251, 75.885, 48.567, 34.064, 20.236, 6.577,...\n",
              "Adsorption [mg/m2]    [0.024, 0.242, 0.206, 0.168, 0.094, 0.033, 0.2...\n",
              "pH                                                  [6, 8.5, 9, 3, NAN]\n",
              "MW                    [1500, 10000, 17000, 167000, 181000, 817000, 1...\n",
              "Tempearture [C]                   [25, 15, 35, NAN, 29, 28, 27, 26, 30]\n",
              "Ref                   [The temperature effect on the adsorption mech...\n",
              "dtype: object"
            ]
          },
          "metadata": {},
          "execution_count": 244
        }
      ]
    },
    {
      "cell_type": "code",
      "source": [
        "import seaborn as sns\n",
        "\n",
        "sns.pairplot(data)"
      ],
      "metadata": {
        "colab": {
          "base_uri": "https://localhost:8080/",
          "height": 567
        },
        "id": "yfVQq08fe1vB",
        "outputId": "67f733fc-2ada-49bf-fd54-e0c3f93e8723"
      },
      "execution_count": 299,
      "outputs": [
        {
          "output_type": "execute_result",
          "data": {
            "text/plain": [
              "<seaborn.axisgrid.PairGrid at 0x7f1c7f842e50>"
            ]
          },
          "metadata": {},
          "execution_count": 299
        },
        {
          "output_type": "display_data",
          "data": {
            "text/plain": [
              "<Figure size 540x540 with 12 Axes>"
            ],
            "image/png": "[encoded data removed]"
          },
          "metadata": {
            "needs_background": "light"
          }
        }
      ]
    },
    {
      "cell_type": "code",
      "source": [
        "sns.pairplot(data, kind=\"kde\")"
      ],
      "metadata": {
        "colab": {
          "base_uri": "https://localhost:8080/",
          "height": 567
        },
        "id": "oMT9SHuAfUFJ",
        "outputId": "0377b9dc-9c2e-49dc-edef-07b7b51aea0a"
      },
      "execution_count": 300,
      "outputs": [
        {
          "output_type": "execute_result",
          "data": {
            "text/plain": [
              "<seaborn.axisgrid.PairGrid at 0x7f1c7f7fdb10>"
            ]
          },
          "metadata": {},
          "execution_count": 300
        },
        {
          "output_type": "display_data",
          "data": {
            "text/plain": [
              "<Figure size 540x540 with 12 Axes>"
            ],
            "image/png": "[encoded data removed]"
          },
          "metadata": {
            "needs_background": "light"
          }
        }
      ]
    },
    {
      "cell_type": "markdown",
      "source": [
        "**MW is changing from 1500 till ~ millions, temperature is changing from 25-30 etc**"
      ],
      "metadata": {
        "id": "LvhvGJ8GXeht"
      }
    },
    {
      "cell_type": "markdown",
      "source": [
        "# Sorting values "
      ],
      "metadata": {
        "id": "UVwf5QmSXpmY"
      }
    },
    {
      "cell_type": "code",
      "source": [
        "data=data.sort_values(by=['MW'])"
      ],
      "metadata": {
        "id": "vU3SR345wifH"
      },
      "execution_count": 197,
      "outputs": []
    },
    {
      "cell_type": "code",
      "source": [
        "data.head()"
      ],
      "metadata": {
        "colab": {
          "base_uri": "https://localhost:8080/",
          "height": 206
        },
        "id": "pLNGcYn6woDi",
        "outputId": "78d5ba4d-5950-4c88-d388-eb85f4e529e8"
      },
      "execution_count": 198,
      "outputs": [
        {
          "output_type": "execute_result",
          "data": {
            "text/plain": [
              "   Polymer Substrate  Dosage [ppm]  Adsorption [mg/m2] pH    MW  \\\n",
              "69     PAM    Silica         7.251               0.024  6  1500   \n",
              "79     PAM    Silica        75.885               0.242  6  1500   \n",
              "78     PAM    Silica        48.567               0.206  6  1500   \n",
              "77     PAM    Silica        34.064               0.168  6  1500   \n",
              "76     PAM    Silica        20.236               0.094  6  1500   \n",
              "\n",
              "   Tempearture [C]                                                Ref  \n",
              "69              25  The temperature effect on the adsorption mecha...  \n",
              "79              15  The temperature effect on the adsorption mecha...  \n",
              "78              15  The temperature effect on the adsorption mecha...  \n",
              "77              15  The temperature effect on the adsorption mecha...  \n",
              "76              15  The temperature effect on the adsorption mecha...  "
            ],
            "text/html": [
              "\n",
              "  <div id=\"df-a2b4d144-e56e-4d84-a42f-4da2d3e5886f\">\n",
              "    <div class=\"colab-df-container\">\n",
              "      <div>\n",
              "<style scoped>\n",
              "    .dataframe tbody tr th:only-of-type {\n",
              "        vertical-align: middle;\n",
              "    }\n",
              "\n",
              "    .dataframe tbody tr th {\n",
              "        vertical-align: top;\n",
              "    }\n",
              "\n",
              "    .dataframe thead th {\n",
              "        text-align: right;\n",
              "    }\n",
              "</style>\n",
              "<table border=\"1\" class=\"dataframe\">\n",
              "  <thead>\n",
              "    <tr style=\"text-align: right;\">\n",
              "      <th></th>\n",
              "      <th>Polymer</th>\n",
              "      <th>Substrate</th>\n",
              "      <th>Dosage [ppm]</th>\n",
              "      <th>Adsorption [mg/m2]</th>\n",
              "      <th>pH</th>\n",
              "      <th>MW</th>\n",
              "      <th>Tempearture [C]</th>\n",
              "      <th>Ref</th>\n",
              "    </tr>\n",
              "  </thead>\n",
              "  <tbody>\n",
              "    <tr>\n",
              "      <th>69</th>\n",
              "      <td>PAM</td>\n",
              "      <td>Silica</td>\n",
              "      <td>7.251</td>\n",
              "      <td>0.024</td>\n",
              "      <td>6</td>\n",
              "      <td>1500</td>\n",
              "      <td>25</td>\n",
              "      <td>The temperature effect on the adsorption mecha...</td>\n",
              "    </tr>\n",
              "    <tr>\n",
              "      <th>79</th>\n",
              "      <td>PAM</td>\n",
              "      <td>Silica</td>\n",
              "      <td>75.885</td>\n",
              "      <td>0.242</td>\n",
              "      <td>6</td>\n",
              "      <td>1500</td>\n",
              "      <td>15</td>\n",
              "      <td>The temperature effect on the adsorption mecha...</td>\n",
              "    </tr>\n",
              "    <tr>\n",
              "      <th>78</th>\n",
              "      <td>PAM</td>\n",
              "      <td>Silica</td>\n",
              "      <td>48.567</td>\n",
              "      <td>0.206</td>\n",
              "      <td>6</td>\n",
              "      <td>1500</td>\n",
              "      <td>15</td>\n",
              "      <td>The temperature effect on the adsorption mecha...</td>\n",
              "    </tr>\n",
              "    <tr>\n",
              "      <th>77</th>\n",
              "      <td>PAM</td>\n",
              "      <td>Silica</td>\n",
              "      <td>34.064</td>\n",
              "      <td>0.168</td>\n",
              "      <td>6</td>\n",
              "      <td>1500</td>\n",
              "      <td>15</td>\n",
              "      <td>The temperature effect on the adsorption mecha...</td>\n",
              "    </tr>\n",
              "    <tr>\n",
              "      <th>76</th>\n",
              "      <td>PAM</td>\n",
              "      <td>Silica</td>\n",
              "      <td>20.236</td>\n",
              "      <td>0.094</td>\n",
              "      <td>6</td>\n",
              "      <td>1500</td>\n",
              "      <td>15</td>\n",
              "      <td>The temperature effect on the adsorption mecha...</td>\n",
              "    </tr>\n",
              "  </tbody>\n",
              "</table>\n",
              "</div>\n",
              "      <button class=\"colab-df-convert\" onclick=\"convertToInteractive('df-a2b4d144-e56e-4d84-a42f-4da2d3e5886f')\"\n",
              "              title=\"Convert this dataframe to an interactive table.\"\n",
              "              style=\"display:none;\">\n",
              "        \n",
              "  <svg xmlns=\"http://www.w3.org/2000/svg\" height=\"24px\"viewBox=\"0 0 24 24\"\n",
              "       width=\"24px\">\n",
              "    <path d=\"M0 0h24v24H0V0z\" fill=\"none\"/>\n",
              "    <path d=\"M18.56 5.44l.94 2.06.94-2.06 2.06-.94-2.06-.94-.94-2.06-.94 2.06-2.06.94zm-11 1L8.5 8.5l.94-2.06 2.06-.94-2.06-.94L8.5 2.5l-.94 2.06-2.06.94zm10 10l.94 2.06.94-2.06 2.06-.94-2.06-.94-.94-2.06-.94 2.06-2.06.94z\"/><path d=\"M17.41 7.96l-1.37-1.37c-.4-.4-.92-.59-1.43-.59-.52 0-1.04.2-1.43.59L10.3 9.45l-7.72 7.72c-.78.78-.78 2.05 0 2.83L4 21.41c.39.39.9.59 1.41.59.51 0 1.02-.2 1.41-.59l7.78-7.78 2.81-2.81c.8-.78.8-2.07 0-2.86zM5.41 20L4 18.59l7.72-7.72 1.47 1.35L5.41 20z\"/>\n",
              "  </svg>\n",
              "      </button>\n",
              "      \n",
              "  <style>\n",
              "    .colab-df-container {\n",
              "      display:flex;\n",
              "      flex-wrap:wrap;\n",
              "      gap: 12px;\n",
              "    }\n",
              "\n",
              "    .colab-df-convert {\n",
              "      background-color: #E8F0FE;\n",
              "      border: none;\n",
              "      border-radius: 50%;\n",
              "      cursor: pointer;\n",
              "      display: none;\n",
              "      fill: #1967D2;\n",
              "      height: 32px;\n",
              "      padding: 0 0 0 0;\n",
              "      width: 32px;\n",
              "    }\n",
              "\n",
              "    .colab-df-convert:hover {\n",
              "      background-color: #E2EBFA;\n",
              "      box-shadow: 0px 1px 2px rgba(60, 64, 67, 0.3), 0px 1px 3px 1px rgba(60, 64, 67, 0.15);\n",
              "      fill: #174EA6;\n",
              "    }\n",
              "\n",
              "    [theme=dark] .colab-df-convert {\n",
              "      background-color: #3B4455;\n",
              "      fill: #D2E3FC;\n",
              "    }\n",
              "\n",
              "    [theme=dark] .colab-df-convert:hover {\n",
              "      background-color: #434B5C;\n",
              "      box-shadow: 0px 1px 3px 1px rgba(0, 0, 0, 0.15);\n",
              "      filter: drop-shadow(0px 1px 2px rgba(0, 0, 0, 0.3));\n",
              "      fill: #FFFFFF;\n",
              "    }\n",
              "  </style>\n",
              "\n",
              "      <script>\n",
              "        const buttonEl =\n",
              "          document.querySelector('#df-a2b4d144-e56e-4d84-a42f-4da2d3e5886f button.colab-df-convert');\n",
              "        buttonEl.style.display =\n",
              "          google.colab.kernel.accessAllowed ? 'block' : 'none';\n",
              "\n",
              "        async function convertToInteractive(key) {\n",
              "          const element = document.querySelector('#df-a2b4d144-e56e-4d84-a42f-4da2d3e5886f');\n",
              "          const dataTable =\n",
              "            await google.colab.kernel.invokeFunction('convertToInteractive',\n",
              "                                                     [key], {});\n",
              "          if (!dataTable) return;\n",
              "\n",
              "          const docLinkHtml = 'Like what you see? Visit the ' +\n",
              "            '<a target=\"_blank\" href=https://colab.research.google.com/notebooks/data_table.ipynb>data table notebook</a>'\n",
              "            + ' to learn more about interactive tables.';\n",
              "          element.innerHTML = '';\n",
              "          dataTable['output_type'] = 'display_data';\n",
              "          await google.colab.output.renderOutput(dataTable, element);\n",
              "          const docLink = document.createElement('div');\n",
              "          docLink.innerHTML = docLinkHtml;\n",
              "          element.appendChild(docLink);\n",
              "        }\n",
              "      </script>\n",
              "    </div>\n",
              "  </div>\n",
              "  "
            ]
          },
          "metadata": {},
          "execution_count": 198
        }
      ]
    },
    {
      "cell_type": "code",
      "source": [
        "y=data['Dosage [ppm]']\n"
      ],
      "metadata": {
        "id": "hUoB9dyWsl1t"
      },
      "execution_count": 199,
      "outputs": []
    },
    {
      "cell_type": "code",
      "source": [
        "x=data['Adsorption [mg/m2]']\n"
      ],
      "metadata": {
        "id": "t7Ltxcc3vEqv"
      },
      "execution_count": 200,
      "outputs": []
    },
    {
      "cell_type": "code",
      "source": [
        "z=data['MW']"
      ],
      "metadata": {
        "id": "WYBDlHQWhLmU"
      },
      "execution_count": 201,
      "outputs": []
    },
    {
      "cell_type": "code",
      "source": [
        "s=data['MW'].unique()\n",
        "s"
      ],
      "metadata": {
        "colab": {
          "base_uri": "https://localhost:8080/"
        },
        "id": "9u1Ayw0Ch1tj",
        "outputId": "51c42de2-9f79-408b-d722-65d6eb1ba1da"
      },
      "execution_count": 202,
      "outputs": [
        {
          "output_type": "execute_result",
          "data": {
            "text/plain": [
              "array([     1500,     10000,     17000,    167000,    181000,    817000,\n",
              "         1284000,   1600000,  11000000,  14000000,  17500000, 135000000])"
            ]
          },
          "metadata": {},
          "execution_count": 202
        }
      ]
    },
    {
      "cell_type": "code",
      "source": [
        "k=[]\n",
        "for j in range(len(s)):\n",
        "    l=[]\n",
        "    P=[]\n",
        "   \n",
        "    for i in range(len(y)):\n",
        "        if z[i]==s[j]:\n",
        "           l.append(y[i])\n",
        "           P.append(x[i])\n",
        "    S=sum(P)/sum(l)\n",
        "    k.append(S)      \n",
        "\n",
        "\n",
        "\n"
      ],
      "metadata": {
        "id": "I_BNcTv9vdLf"
      },
      "execution_count": 209,
      "outputs": []
    },
    {
      "cell_type": "code",
      "source": [
        "k"
      ],
      "metadata": {
        "colab": {
          "base_uri": "https://localhost:8080/"
        },
        "id": "34G5tCkeiWI6",
        "outputId": "b7a226c4-0425-4415-a9a0-023026c1e81f"
      },
      "execution_count": 204,
      "outputs": [
        {
          "output_type": "execute_result",
          "data": {
            "text/plain": [
              "[0.0021968222013253338,\n",
              " 0.0027359021442956988,\n",
              " 6.295854458693707,\n",
              " 7.5419580419580425,\n",
              " 12.969696969696972,\n",
              " 10.321705426356589,\n",
              " 8.883268482490271,\n",
              " 0.2647058823529412,\n",
              " 3.414008152726977e-06,\n",
              " 4.1163624630145994e-06,\n",
              " 0.25882352941176473,\n",
              " 0.00012080598147038907]"
            ]
          },
          "metadata": {},
          "execution_count": 204
        }
      ]
    },
    {
      "cell_type": "code",
      "source": [
        "s=data['MW'].unique()\n",
        "s=s[0:len(s)-2]\n",
        "s"
      ],
      "metadata": {
        "colab": {
          "base_uri": "https://localhost:8080/"
        },
        "id": "evpRUO9Ehmrx",
        "outputId": "53667d92-cb2b-4593-b2d9-86f8a469a84a"
      },
      "execution_count": 208,
      "outputs": [
        {
          "output_type": "execute_result",
          "data": {
            "text/plain": [
              "array([    1500,    10000,    17000,   167000,   181000,   817000,\n",
              "        1284000,  1600000, 11000000, 14000000])"
            ]
          },
          "metadata": {},
          "execution_count": 208
        }
      ]
    },
    {
      "cell_type": "code",
      "source": [
        "import matplotlib.pyplot as plt"
      ],
      "metadata": {
        "id": "BJFIXF-oiurD"
      },
      "execution_count": 206,
      "outputs": []
    },
    {
      "cell_type": "code",
      "source": [
        "fig = plt.figure()\n",
        "ax = plt.gca()\n",
        "ax.scatter(s,k)\n",
        "ax.set_xscale('log') "
      ],
      "metadata": {
        "colab": {
          "base_uri": "https://localhost:8080/",
          "height": 269
        },
        "id": "gySEQpevik7e",
        "outputId": "4c7098be-a2e3-4587-c5cc-e8d16fb25bad"
      },
      "execution_count": 210,
      "outputs": [
        {
          "output_type": "display_data",
          "data": {
            "text/plain": [
              "<Figure size 432x288 with 1 Axes>"
            ],
            "image/png": "[encoded data removed]"
          },
          "metadata": {
            "needs_background": "light"
          }
        }
      ]
    },
    {
      "cell_type": "code",
      "source": [
        "k = np.array(k)\n"
      ],
      "metadata": {
        "id": "oVZsApkUjTVM"
      },
      "execution_count": 211,
      "outputs": []
    },
    {
      "cell_type": "code",
      "source": [
        "s=s.reshape(-1, 1)"
      ],
      "metadata": {
        "id": "3pk0EonMjvaT"
      },
      "execution_count": 212,
      "outputs": []
    },
    {
      "cell_type": "code",
      "source": [
        "k=k.reshape(-1, 1)"
      ],
      "metadata": {
        "id": "HDX0vz2Jj4mf"
      },
      "execution_count": 213,
      "outputs": []
    },
    {
      "cell_type": "code",
      "source": [
        "s"
      ],
      "metadata": {
        "colab": {
          "base_uri": "https://localhost:8080/"
        },
        "id": "hMv2UXUVkDb7",
        "outputId": "0ddd1acf-3092-4456-ab1d-f6ab4abae1be"
      },
      "execution_count": 214,
      "outputs": [
        {
          "output_type": "execute_result",
          "data": {
            "text/plain": [
              "array([[    1500],\n",
              "       [   10000],\n",
              "       [   17000],\n",
              "       [  167000],\n",
              "       [  181000],\n",
              "       [  817000],\n",
              "       [ 1284000],\n",
              "       [ 1600000],\n",
              "       [11000000],\n",
              "       [14000000]])"
            ]
          },
          "metadata": {},
          "execution_count": 214
        }
      ]
    },
    {
      "cell_type": "code",
      "source": [
        "import numpy as np\n",
        "from sklearn.linear_model import LinearRegression"
      ],
      "metadata": {
        "id": "IgUJvKpgjGWG"
      },
      "execution_count": 215,
      "outputs": []
    },
    {
      "cell_type": "code",
      "source": [
        "regressor = LinearRegression()\n",
        "regressor.fit(s,k)\n"
      ],
      "metadata": {
        "colab": {
          "base_uri": "https://localhost:8080/"
        },
        "id": "JSyUNHbijCjJ",
        "outputId": "66e84c14-fa52-4dc1-f9e9-3218092285b8"
      },
      "execution_count": 216,
      "outputs": [
        {
          "output_type": "execute_result",
          "data": {
            "text/plain": [
              "LinearRegression()"
            ]
          },
          "metadata": {},
          "execution_count": 216
        }
      ]
    },
    {
      "cell_type": "code",
      "source": [
        "print(regressor.intercept_)\n",
        "print(regressor.coef_)\n"
      ],
      "metadata": {
        "colab": {
          "base_uri": "https://localhost:8080/"
        },
        "id": "8mZ3I6pkkcbJ",
        "outputId": "d4e914b8-bb40-401b-a0b7-43e97529a231"
      },
      "execution_count": 217,
      "outputs": [
        {
          "output_type": "stream",
          "name": "stdout",
          "text": [
            "[5.98295281]\n",
            "[[-4.6590658e-07]]\n"
          ]
        }
      ]
    },
    {
      "cell_type": "code",
      "source": [
        "KK=regressor.coef_*s+regressor.intercept_"
      ],
      "metadata": {
        "id": "G62PaJ1yk8zT"
      },
      "execution_count": 218,
      "outputs": []
    },
    {
      "cell_type": "code",
      "source": [
        "KK"
      ],
      "metadata": {
        "colab": {
          "base_uri": "https://localhost:8080/"
        },
        "id": "_cv_OgV8lOeg",
        "outputId": "0c017d5a-5a09-4861-f887-67ff13c7737e"
      },
      "execution_count": 221,
      "outputs": [
        {
          "output_type": "execute_result",
          "data": {
            "text/plain": [
              "array([[ 5.98225395],\n",
              "       [ 5.97829374],\n",
              "       [ 5.9750324 ],\n",
              "       [ 5.90514641],\n",
              "       [ 5.89862372],\n",
              "       [ 5.60230713],\n",
              "       [ 5.38472876],\n",
              "       [ 5.23750228],\n",
              "       [ 0.85798043],\n",
              "       [-0.53973931]])"
            ]
          },
          "metadata": {},
          "execution_count": 221
        }
      ]
    },
    {
      "cell_type": "markdown",
      "source": [
        "The relationship between adsorption/dosage and MW is adsorption/dosage=-6.8e-8MW+9.23"
      ],
      "metadata": {
        "id": "ucxFZ16omBGJ"
      }
    },
    {
      "cell_type": "code",
      "source": [
        "fig = plt.figure()\n",
        "ax = plt.gca()\n",
        "ax.plot(s,KK)\n",
        "ax.scatter(s,k)"
      ],
      "metadata": {
        "colab": {
          "base_uri": "https://localhost:8080/",
          "height": 295
        },
        "id": "pN1Q6c1blGYj",
        "outputId": "7a244a03-0e12-4745-ec46-f29b88973dbe"
      },
      "execution_count": 222,
      "outputs": [
        {
          "output_type": "execute_result",
          "data": {
            "text/plain": [
              "<matplotlib.collections.PathCollection at 0x7f1c849036d0>"
            ]
          },
          "metadata": {},
          "execution_count": 222
        },
        {
          "output_type": "display_data",
          "data": {
            "text/plain": [
              "<Figure size 432x288 with 1 Axes>"
            ],
            "image/png": "[encoded data removed]"
          },
          "metadata": {
            "needs_background": "light"
          }
        }
      ]
    },
    {
      "cell_type": "code",
      "source": [
        "fig = plt.figure()\n",
        "ax = plt.gca()\n",
        "symbol = \"^\"\n",
        "\n",
        "plt.ylim(0,0.5)\n",
        "ax.scatter(y,x, marker=symbol)\n"
      ],
      "metadata": {
        "colab": {
          "base_uri": "https://localhost:8080/",
          "height": 286
        },
        "id": "S3qw64vhoE5k",
        "outputId": "a0cb878a-21c5-436e-93cf-f51a6367d4ed"
      },
      "execution_count": 233,
      "outputs": [
        {
          "output_type": "execute_result",
          "data": {
            "text/plain": [
              "<matplotlib.collections.PathCollection at 0x7f1c84b4fa90>"
            ]
          },
          "metadata": {},
          "execution_count": 233
        },
        {
          "output_type": "display_data",
          "data": {
            "text/plain": [
              "<Figure size 432x288 with 1 Axes>"
            ],
            "image/png": "[encoded data removed]"
          },
          "metadata": {
            "needs_background": "light"
          }
        }
      ]
    },
    {
      "cell_type": "markdown",
      "source": [
        "**Creation of correlation table**"
      ],
      "metadata": {
        "id": "z1Wvba-uXvxx"
      }
    },
    {
      "cell_type": "code",
      "source": [
        "import pandas as pd\n",
        "import numpy as np\n",
        "\n",
        "corr = data.corr()\n",
        "corr.style.background_gradient(cmap='coolwarm')"
      ],
      "metadata": {
        "colab": {
          "base_uri": "https://localhost:8080/",
          "height": 143
        },
        "id": "GEOcBujHWCjo",
        "outputId": "6c5de11a-3274-482b-e477-c1c36857f1d1"
      },
      "execution_count": 235,
      "outputs": [
        {
          "output_type": "execute_result",
          "data": {
            "text/plain": [
              "<pandas.io.formats.style.Styler at 0x7f1c84b535d0>"
            ],
            "text/html": [
              "<style type=\"text/css\">\n",
              "#T_970d8_row0_col0, #T_970d8_row1_col1, #T_970d8_row2_col2 {\n",
              "  background-color: #b40426;\n",
              "  color: #f1f1f1;\n",
              "}\n",
              "#T_970d8_row0_col1 {\n",
              "  background-color: #445acc;\n",
              "  color: #f1f1f1;\n",
              "}\n",
              "#T_970d8_row0_col2 {\n",
              "  background-color: #f7a98b;\n",
              "  color: #000000;\n",
              "}\n",
              "#T_970d8_row1_col0, #T_970d8_row1_col2, #T_970d8_row2_col1 {\n",
              "  background-color: #3b4cc0;\n",
              "  color: #f1f1f1;\n",
              "}\n",
              "#T_970d8_row2_col0 {\n",
              "  background-color: #f7ad90;\n",
              "  color: #000000;\n",
              "}\n",
              "</style>\n",
              "<table id=\"T_970d8_\" class=\"dataframe\">\n",
              "  <thead>\n",
              "    <tr>\n",
              "      <th class=\"blank level0\" >&nbsp;</th>\n",
              "      <th class=\"col_heading level0 col0\" >Dosage [ppm]</th>\n",
              "      <th class=\"col_heading level0 col1\" >Adsorption [mg/m2]</th>\n",
              "      <th class=\"col_heading level0 col2\" >MW</th>\n",
              "    </tr>\n",
              "  </thead>\n",
              "  <tbody>\n",
              "    <tr>\n",
              "      <th id=\"T_970d8_level0_row0\" class=\"row_heading level0 row0\" >Dosage [ppm]</th>\n",
              "      <td id=\"T_970d8_row0_col0\" class=\"data row0 col0\" >1.000000</td>\n",
              "      <td id=\"T_970d8_row0_col1\" class=\"data row0 col1\" >-0.066695</td>\n",
              "      <td id=\"T_970d8_row0_col2\" class=\"data row0 col2\" >0.676923</td>\n",
              "    </tr>\n",
              "    <tr>\n",
              "      <th id=\"T_970d8_level0_row1\" class=\"row_heading level0 row1\" >Adsorption [mg/m2]</th>\n",
              "      <td id=\"T_970d8_row1_col0\" class=\"data row1 col0\" >-0.066695</td>\n",
              "      <td id=\"T_970d8_row1_col1\" class=\"data row1 col1\" >1.000000</td>\n",
              "      <td id=\"T_970d8_row1_col2\" class=\"data row1 col2\" >-0.102870</td>\n",
              "    </tr>\n",
              "    <tr>\n",
              "      <th id=\"T_970d8_level0_row2\" class=\"row_heading level0 row2\" >MW</th>\n",
              "      <td id=\"T_970d8_row2_col0\" class=\"data row2 col0\" >0.676923</td>\n",
              "      <td id=\"T_970d8_row2_col1\" class=\"data row2 col1\" >-0.102870</td>\n",
              "      <td id=\"T_970d8_row2_col2\" class=\"data row2 col2\" >1.000000</td>\n",
              "    </tr>\n",
              "  </tbody>\n",
              "</table>\n"
            ]
          },
          "metadata": {},
          "execution_count": 235
        }
      ]
    },
    {
      "cell_type": "code",
      "source": [
        "corr.style.background_gradient(cmap='coolwarm').set_precision(2)\n"
      ],
      "metadata": {
        "colab": {
          "base_uri": "https://localhost:8080/",
          "height": 213
        },
        "id": "reymm5jEWE5h",
        "outputId": "2e6df467-8a3e-407d-c4ba-165d4a707f51"
      },
      "execution_count": 236,
      "outputs": [
        {
          "output_type": "stream",
          "name": "stderr",
          "text": [
            "/usr/local/lib/python3.7/dist-packages/ipykernel_launcher.py:1: FutureWarning:\n",
            "\n",
            "this method is deprecated in favour of `Styler.format(precision=..)`\n",
            "\n"
          ]
        },
        {
          "output_type": "execute_result",
          "data": {
            "text/plain": [
              "<pandas.io.formats.style.Styler at 0x7f1c84b53b10>"
            ],
            "text/html": [
              "<style type=\"text/css\">\n",
              "#T_1f75f_row0_col0, #T_1f75f_row1_col1, #T_1f75f_row2_col2 {\n",
              "  background-color: #b40426;\n",
              "  color: #f1f1f1;\n",
              "}\n",
              "#T_1f75f_row0_col1 {\n",
              "  background-color: #445acc;\n",
              "  color: #f1f1f1;\n",
              "}\n",
              "#T_1f75f_row0_col2 {\n",
              "  background-color: #f7a98b;\n",
              "  color: #000000;\n",
              "}\n",
              "#T_1f75f_row1_col0, #T_1f75f_row1_col2, #T_1f75f_row2_col1 {\n",
              "  background-color: #3b4cc0;\n",
              "  color: #f1f1f1;\n",
              "}\n",
              "#T_1f75f_row2_col0 {\n",
              "  background-color: #f7ad90;\n",
              "  color: #000000;\n",
              "}\n",
              "</style>\n",
              "<table id=\"T_1f75f_\" class=\"dataframe\">\n",
              "  <thead>\n",
              "    <tr>\n",
              "      <th class=\"blank level0\" >&nbsp;</th>\n",
              "      <th class=\"col_heading level0 col0\" >Dosage [ppm]</th>\n",
              "      <th class=\"col_heading level0 col1\" >Adsorption [mg/m2]</th>\n",
              "      <th class=\"col_heading level0 col2\" >MW</th>\n",
              "    </tr>\n",
              "  </thead>\n",
              "  <tbody>\n",
              "    <tr>\n",
              "      <th id=\"T_1f75f_level0_row0\" class=\"row_heading level0 row0\" >Dosage [ppm]</th>\n",
              "      <td id=\"T_1f75f_row0_col0\" class=\"data row0 col0\" >1.00</td>\n",
              "      <td id=\"T_1f75f_row0_col1\" class=\"data row0 col1\" >-0.07</td>\n",
              "      <td id=\"T_1f75f_row0_col2\" class=\"data row0 col2\" >0.68</td>\n",
              "    </tr>\n",
              "    <tr>\n",
              "      <th id=\"T_1f75f_level0_row1\" class=\"row_heading level0 row1\" >Adsorption [mg/m2]</th>\n",
              "      <td id=\"T_1f75f_row1_col0\" class=\"data row1 col0\" >-0.07</td>\n",
              "      <td id=\"T_1f75f_row1_col1\" class=\"data row1 col1\" >1.00</td>\n",
              "      <td id=\"T_1f75f_row1_col2\" class=\"data row1 col2\" >-0.10</td>\n",
              "    </tr>\n",
              "    <tr>\n",
              "      <th id=\"T_1f75f_level0_row2\" class=\"row_heading level0 row2\" >MW</th>\n",
              "      <td id=\"T_1f75f_row2_col0\" class=\"data row2 col0\" >0.68</td>\n",
              "      <td id=\"T_1f75f_row2_col1\" class=\"data row2 col1\" >-0.10</td>\n",
              "      <td id=\"T_1f75f_row2_col2\" class=\"data row2 col2\" >1.00</td>\n",
              "    </tr>\n",
              "  </tbody>\n",
              "</table>\n"
            ]
          },
          "metadata": {},
          "execution_count": 236
        }
      ]
    },
    {
      "cell_type": "markdown",
      "source": [
        "**Trying to find frequency of data on different susbstrates**\n",
        "\n",
        "---\n",
        "\n",
        "\n",
        "\n"
      ],
      "metadata": {
        "id": "hi4umrQadI5X"
      }
    },
    {
      "cell_type": "code",
      "source": [
        "L=data['Substrate'].unique()\n",
        "KKK=data['Substrate']\n",
        "k=[]\n",
        "count = 0\n",
        "for j in range(len(KKK)):\n",
        "    if KKK[j]=='Silica':\n",
        "       count += 1\n",
        "\n",
        "     \n",
        "k.append(count)"
      ],
      "metadata": {
        "id": "rsFxlFt0WdkA"
      },
      "execution_count": 267,
      "outputs": []
    },
    {
      "cell_type": "code",
      "source": [
        "L=data['Substrate'].unique()\n",
        "L"
      ],
      "metadata": {
        "colab": {
          "base_uri": "https://localhost:8080/"
        },
        "id": "r5iJkV47bYcM",
        "outputId": "c389cb9c-951b-4f99-a8c0-5fa83bfd554b"
      },
      "execution_count": 270,
      "outputs": [
        {
          "output_type": "execute_result",
          "data": {
            "text/plain": [
              "array(['Silica', 'kaolinite', 'Alumina', 'illite', 'Kaolinite',\n",
              "       'Smectite'], dtype=object)"
            ]
          },
          "metadata": {},
          "execution_count": 270
        }
      ]
    },
    {
      "cell_type": "code",
      "source": [
        "kP=[]\n",
        "KKK=data['Substrate']\n",
        "for i in range(6):\n",
        "    count = 0\n",
        "    for j in range(len(KKK)):\n",
        "        if KKK[j]==L[i]:\n",
        "           count += 1  \n",
        "    kP.append(count)\n",
        "    \n"
      ],
      "metadata": {
        "id": "9EutFoH7bWAd"
      },
      "execution_count": 281,
      "outputs": []
    },
    {
      "cell_type": "code",
      "source": [
        "L"
      ],
      "metadata": {
        "colab": {
          "base_uri": "https://localhost:8080/"
        },
        "id": "G92Lahl1c19p",
        "outputId": "6816dd14-d79c-445b-cc52-9c31436f0456"
      },
      "execution_count": 282,
      "outputs": [
        {
          "output_type": "execute_result",
          "data": {
            "text/plain": [
              "array(['Silica', 'kaolinite', 'Alumina', 'illite', 'Kaolinite',\n",
              "       'Smectite'], dtype=object)"
            ]
          },
          "metadata": {},
          "execution_count": 282
        }
      ]
    },
    {
      "cell_type": "markdown",
      "source": [
        "Displaying frequency of substrates in the data "
      ],
      "metadata": {
        "id": "T6Jykme5daS4"
      }
    },
    {
      "cell_type": "code",
      "source": [
        "import matplotlib.pyplot as plt\n",
        "fig = plt.figure()\n",
        "\n",
        "plt.bar(L,kP)\n",
        "plt.show()"
      ],
      "metadata": {
        "colab": {
          "base_uri": "https://localhost:8080/",
          "height": 265
        },
        "id": "J0jGUynJcWR8",
        "outputId": "833ee833-b401-4ab5-ee7d-45a4fe66c3fe"
      },
      "execution_count": 285,
      "outputs": [
        {
          "output_type": "display_data",
          "data": {
            "text/plain": [
              "<Figure size 432x288 with 1 Axes>"
            ],
            "image/png": "[encoded data removed]"
          },
          "metadata": {
            "needs_background": "light"
          }
        }
      ]
    },
    {
      "cell_type": "markdown",
      "source": [
        "Pie chart with labels"
      ],
      "metadata": {
        "id": "FwasFjeJd2Q3"
      }
    },
    {
      "cell_type": "code",
      "source": [
        "plt.pie(kP,labels = L)"
      ],
      "metadata": {
        "colab": {
          "base_uri": "https://localhost:8080/",
          "height": 456
        },
        "id": "VOYqK7GRdqzv",
        "outputId": "ed58b3fb-f288-49e4-f1d9-e48bf5b645ad"
      },
      "execution_count": 287,
      "outputs": [
        {
          "output_type": "execute_result",
          "data": {
            "text/plain": [
              "([<matplotlib.patches.Wedge at 0x7f1c82f94d50>,\n",
              "  <matplotlib.patches.Wedge at 0x7f1c82f221d0>,\n",
              "  <matplotlib.patches.Wedge at 0x7f1c82f22190>,\n",
              "  <matplotlib.patches.Wedge at 0x7f1c82f22790>,\n",
              "  <matplotlib.patches.Wedge at 0x7f1c82f2b510>,\n",
              "  <matplotlib.patches.Wedge at 0x7f1c82f2bc90>],\n",
              " [Text(0.01243045697166547, 1.0999297630937512, 'Silica'),\n",
              "  Text(-1.0820679641060151, -0.19781031584693406, 'kaolinite'),\n",
              "  Text(-0.3066513769227746, -1.0563924143193033, 'Alumina'),\n",
              "  Text(0.790889988621063, -0.7645214358662384, 'illite'),\n",
              "  Text(1.00012527433816, -0.4579840997567716, 'Kaolinite'),\n",
              "  Text(1.0899012192541002, -0.14871224653143364, 'Smectite')])"
            ]
          },
          "metadata": {},
          "execution_count": 287
        },
        {
          "output_type": "display_data",
          "data": {
            "text/plain": [
              "<Figure size 432x288 with 1 Axes>"
            ],
            "image/png": "[encoded data removed]"
          },
          "metadata": {}
        }
      ]
    },
    {
      "cell_type": "code",
      "source": [
        "explode = (0, 0.1, 0, 0,0,0.2)\n",
        "plt.pie(kP,labels = L, explode=explode, autopct='%1.1f%%',\n",
        "        shadow=True, startangle=90)"
      ],
      "metadata": {
        "colab": {
          "base_uri": "https://localhost:8080/",
          "height": 569
        },
        "id": "5dmN1o58eN5Q",
        "outputId": "d0045763-9347-4b70-933c-11138667f5a5"
      },
      "execution_count": 294,
      "outputs": [
        {
          "output_type": "execute_result",
          "data": {
            "text/plain": [
              "([<matplotlib.patches.Wedge at 0x7f1c825fd550>,\n",
              "  <matplotlib.patches.Wedge at 0x7f1c825fde90>,\n",
              "  <matplotlib.patches.Wedge at 0x7f1c82608190>,\n",
              "  <matplotlib.patches.Wedge at 0x7f1c82612750>,\n",
              "  <matplotlib.patches.Wedge at 0x7f1c8261e5d0>,\n",
              "  <matplotlib.patches.Wedge at 0x7f1c8262a1d0>],\n",
              " [Text(-1.0999297630937512, 0.012430456971665537, 'Silica'),\n",
              "  Text(0.21579307183301838, -1.1804377790247438, 'kaolinite'),\n",
              "  Text(1.0563924143193033, -0.30665137692277467, 'Alumina'),\n",
              "  Text(0.7645214358662386, 0.7908899886210629, 'illite'),\n",
              "  Text(0.4579840997567717, 1.00012527433816, 'Kaolinite'),\n",
              "  Text(0.1757508368098762, 1.2880650773003002, 'Smectite')],\n",
              " [Text(-0.5999616889602278, 0.00678024925727211, '49.6%'),\n",
              "  Text(0.12587929190259403, -0.6885887044311005, '6.5%'),\n",
              "  Text(0.5762140441741653, -0.16726438741242253, '28.8%'),\n",
              "  Text(0.41701169229067553, 0.4313945392478524, '5.8%'),\n",
              "  Text(0.24980950895823906, 0.5455228769117235, '5.0%'),\n",
              "  Text(0.10815436111376996, 0.7926554321848002, '4.3%')])"
            ]
          },
          "metadata": {},
          "execution_count": 294
        },
        {
          "output_type": "display_data",
          "data": {
            "text/plain": [
              "<Figure size 432x288 with 1 Axes>"
            ],
            "image/png": "[encoded data removed]"
          },
          "metadata": {}
        }
      ]
    },
    {
      "cell_type": "markdown",
      "source": [
        "Displaying pie chart with seaborn"
      ],
      "metadata": {
        "id": "51egdsgFeAvp"
      }
    },
    {
      "cell_type": "code",
      "source": [
        "import matplotlib.pyplot as plt\n",
        "import seaborn as sns\n",
        "\n",
        "#define data\n",
        "data = kP\n",
        "labels = L\n",
        "\n",
        "#define Seaborn color palette to use\n",
        "colors = sns.color_palette('pastel')[0:5]\n",
        "\n",
        "#create pie chart\n",
        "plt.pie(data, labels = labels, colors = colors, autopct='%.0f%%',explode=explode,\n",
        "        shadow=True, startangle=90)\n",
        "plt.show()"
      ],
      "metadata": {
        "colab": {
          "base_uri": "https://localhost:8080/",
          "height": 257
        },
        "id": "asBgRmvkd9Mx",
        "outputId": "f1d4bb5c-86e0-4739-b7d4-a39398b5c027"
      },
      "execution_count": 295,
      "outputs": [
        {
          "output_type": "display_data",
          "data": {
            "text/plain": [
              "<Figure size 432x288 with 1 Axes>"
            ],
            "image/png": "[encoded data removed]"
          },
          "metadata": {}
        }
      ]
    }
  ]
}